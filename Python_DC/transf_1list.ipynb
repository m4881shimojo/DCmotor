{
 "cells": [
  {
   "cell_type": "code",
   "execution_count": 1,
   "id": "a4ccaa46",
   "metadata": {},
   "outputs": [
    {
     "name": "stdout",
     "output_type": "stream",
     "text": [
      "LoopGain分子: K*RO\n",
      "LoopGain分母: CJ*LA*RO*s**2 + K**2*RO + RA + s*(CJ*RA*RO + LA)\n",
      "--------------------\n",
      "--- RLC並列回路の合成インピーダンス（sを含む式） ---\n",
      "代入値: RA=0.299, LA=8.241e-05, CJ=1.42e-05,RO=10000000.0\n",
      "計算結果G: 302000.0/(0.01170222*s**2 + 42.45808241*s + 9120.699)\n",
      "--------------------\n"
     ]
    }
   ],
   "source": [
    "from sympy import symbols, simplify,together, I, Poly,expand\n",
    "# 電気回路のインピーダンス計算が大変なので作ったprogram\n",
    "# 20250906 shimojo makoto (下条誠)\n",
    "\n",
    "# 変数をシンボルとして定義\n",
    "# s: ラプラス演算子 (Laplace operator)\n",
    "RA,LA,RO,RL, LS, CL,CJ,K, s = symbols('RA,LA,RO,RL, LS, CL,CJ,K, s', positive=True)\n",
    "# 回路素子のインピーダンスをsで定義\n",
    "Z_RA = RA           # 抵抗のインピーダンス\n",
    "Z_LA = s * LA       # コイルのインピーダンス\n",
    "Z_RO = RO           # 抵抗のインピーダンス\n",
    "Z_RL = RL           # 抵抗のインピーダンス\n",
    "Z_LS = s * LS       # コイルのインピーダンス\n",
    "Z_CL = 1 / (s * CL)     # コンデンサのインピーダンス\n",
    "Z_CJ = 1 / (s * CJ)     # コンデンサのインピーダンス\n",
    "\n",
    "def series_impedance_fraction(*impedances): #直列接続を計算し、\n",
    "    # 分数式で出力する関数。合計を計算し、together()で分数式にまとめる\n",
    "    return together(sum(impedances))\n",
    "\n",
    "def parallel_impedance_fraction(*impedances): #並列接続を計算し、\n",
    "    # 分数式で出力する関数。逆数の和を計算\n",
    "    reciprocal_sum = sum(1/z for z in impedances)\n",
    "    # その逆数をとり、together()で分数式にまとめる\n",
    "    return together(1 / reciprocal_sum)\n",
    "\n",
    "# RLCの数式を計算( Laplace transform)\n",
    "GA=1/(series_impedance_fraction(Z_RA,Z_LA))\n",
    "GO=(parallel_impedance_fraction(Z_RO,Z_CJ))\n",
    "\n",
    "#Loop Gain (展開してまとめる)\n",
    "G=simplify(together(expand(K*GA*GO)/(1+K*K*GA*GO)))\n",
    "\n",
    "# 分子と分母を多項式として整理(ただの印刷用です。なくても可)\n",
    "numerator, denominator = G.as_numer_denom()\n",
    "#G_numera=Poly(numerator,s) #多項式object\n",
    "#G_denomi=Poly(denominator,s)#多項式object\n",
    "G_numera=Poly(numerator,s).as_expr() #普通の式となる\n",
    "G_denomi=Poly(denominator,s).as_expr()#普通の式となる\n",
    "print(f\"LoopGain分子: {G_numera}\")\n",
    "print(f\"LoopGain分母: {G_denomi}\")\n",
    "GG=G_numera/G_denomi #今は印刷用に使うだけ\n",
    "print(\"-\" * 20)#--------------------\n",
    "\n",
    "# ----------------------------------------------------\n",
    "# ここから具体的な数値を代入する部分\n",
    "# ----------------------------------------------------\n",
    "# 代入する値の辞書 (sを含まない)\n",
    "values = {\n",
    "    RA:0.299,LA:0.08241e-3,RO:1.0e7,RL: 1.0e5,LS: 0.05,\n",
    "    CL: 1.0e-3,CJ: 1.42e-5,K: 0.0302\n",
    "}\n",
    "\n",
    "# .subs()メソッドを使って数式に値を代入\n",
    "# この時、sはシンボルとして残ります\n",
    "G_loopGain_with_values = G.subs(values)\n",
    "\n",
    "# 数値代入後の数式を表示\n",
    "print(\"--- RLC並列回路の合成インピーダンス（sを含む式） ---\")\n",
    "print(f\"代入値: RA={values[RA]}, LA={values[LA]}, CJ={values[CJ]},RO={values[RO]}\")\n",
    "print(f\"計算結果G: {G_loopGain_with_values}\")\n",
    "print(\"-\" * 20)"
   ]
  },
  {
   "cell_type": "code",
   "execution_count": 2,
   "id": "23262b29",
   "metadata": {},
   "outputs": [
    {
     "data": {
      "text/latex": [
       "$\\displaystyle \\frac{1}{LA s + RA}$"
      ],
      "text/plain": [
       "1/(LA*s + RA)"
      ]
     },
     "execution_count": 2,
     "metadata": {},
     "output_type": "execute_result"
    }
   ],
   "source": [
    "GA"
   ]
  },
  {
   "cell_type": "code",
   "execution_count": null,
   "id": "a2ee5370",
   "metadata": {},
   "outputs": [],
   "source": []
  }
 ],
 "metadata": {
  "kernelspec": {
   "display_name": "base",
   "language": "python",
   "name": "python3"
  },
  "language_info": {
   "codemirror_mode": {
    "name": "ipython",
    "version": 3
   },
   "file_extension": ".py",
   "mimetype": "text/x-python",
   "name": "python",
   "nbconvert_exporter": "python",
   "pygments_lexer": "ipython3",
   "version": "3.12.3"
  }
 },
 "nbformat": 4,
 "nbformat_minor": 5
}
